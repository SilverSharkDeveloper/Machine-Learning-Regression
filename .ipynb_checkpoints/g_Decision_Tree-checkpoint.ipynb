{
 "cells": [
  {
   "cell_type": "markdown",
   "id": "382a5c59",
   "metadata": {},
   "source": [
    "### Support Vector Regression (SVR)\n",
    "##### 출처: JIYOON LEE\n",
    "- 과적합이 발생하면 회귀 계수 W의 크기도 증가하기 때문에 회귀계수의 크기가 너무 커지지 않도록 계수의 크기를 제한하는 정규화 방법을 적용한다.\n",
    "<img src=\"./images/support_vector_regression01.png\" width=\"450\" style=\"margin:10px; margin-left: 0\">\n",
    "- L2 규제를 사용하는 릿지(Ridge)의 목적은 실제값과 추정값의 차이를 작게 하되, 회귀계수 크기도 작게 하는 선을 찾는 것이다.\n",
    "- 패널티를 회귀 계수에 부여한다.\n",
    "<img src=\"./images/support_vector_regression02.png\" width=\"350\" style=\"margin:10px; margin-left: 0\">\n",
    "- SVR(Support Vector Regression)도 L2 규제를 사용하지만 목적은 회귀계수 크기를 작게 하여 회귀식을 평평하게 만들되, 실제값과 추정값의 차이를 작게 하는 선을 찾는 것이다.\n",
    "- 패널티를 손실 함수에 부여한다.\n",
    "<img src=\"./images/support_vector_regression03.png\" width=\"350\" style=\"margin:10px; margin-left: 0\">\n",
    "\n",
    "##### ϵ(epsilon)-insensitive Loss function\n",
    "-  epsilon: 절대값에서 양수만 남긴다.\n",
    "-  SVR의 손실함수를 ϵ-insensitive함수를 사용한 SVR식으로 표현하면 아래와 같다.\n",
    "> - ϵ: 회귀식 마진(튜브)\n",
    "> - ξ:튜브 위 방향으로 벗어난 거리\n",
    "> - ξ<sup>∗</sup>튜브 아래 방향으로 벗어난 거리\n",
    "<img src=\"./images/support_vector_regression04.png\" width=\"300\" style=\"margin:10px; margin-left: 0\">\n",
    "<img src=\"./images/support_vector_regression05.png\" width=\"500\" style=\"margin:10px; margin-left: 0\">\n",
    "- SVR은 회귀식이 추정되면 회귀식 위아래 2ϵ(−ϵ,ϵ)만큼 튜브를 생성하여 회귀선에 대한 상한선, 하한선을 주게된다.\n",
    "##### 🚩 데이터에 노이즈가 있다고 가정하며, 실제 값을 완벽히 추정하는 것을 추구하지 않는다. 적정 범위(2ϵ) 내에 실제값과 예측값의 차이를 허용한다.\n",
    "<img src=\"./images/support_vector_regression06.png\" width=\"500\" style=\"margin:10px; margin-left: 0\">  \n",
    "\n",
    "##### 🚩 SVR은 속도가 많이 느리다.\n",
    "\n",
    "---\n",
    "##### All Loss function hyper parameter\n",
    "<img src=\"./images/support_vector_regression06.png\" width=\"550\" style=\"margin:10px; margin-left: 0\">"
   ]
  }
 ],
 "metadata": {
  "kernelspec": {
   "display_name": "Python 3 (ipykernel)",
   "language": "python",
   "name": "python3"
  },
  "language_info": {
   "codemirror_mode": {
    "name": "ipython",
    "version": 3
   },
   "file_extension": ".py",
   "mimetype": "text/x-python",
   "name": "python",
   "nbconvert_exporter": "python",
   "pygments_lexer": "ipython3",
   "version": "3.11.5"
  }
 },
 "nbformat": 4,
 "nbformat_minor": 5
}
